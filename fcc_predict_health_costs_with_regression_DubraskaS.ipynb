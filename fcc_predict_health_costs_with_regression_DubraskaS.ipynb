{
  "cells": [
    {
      "cell_type": "code",
      "execution_count": null,
      "metadata": {
        "id": "1rRo8oNqZ-Rj"
      },
      "outputs": [],
      "source": [
        "# Import libraries. You may or may not use all of these.\n",
        "!pip install -q git+https://github.com/tensorflow/docs\n",
        "import matplotlib.pyplot as plt\n",
        "import numpy as np\n",
        "import pandas as pd\n",
        "\n",
        "try:\n",
        "  # %tensorflow_version only exists in Colab.\n",
        "  %tensorflow_version 2.x\n",
        "except Exception:\n",
        "  pass\n",
        "import tensorflow as tf\n",
        "\n",
        "from tensorflow import keras\n",
        "from tensorflow.keras import layers\n",
        "\n",
        "import tensorflow_docs as tfdocs\n",
        "import tensorflow_docs.plots\n",
        "import tensorflow_docs.modeling"
      ]
    },
    {
      "cell_type": "code",
      "execution_count": null,
      "metadata": {
        "id": "CiX2FI4gZtTt"
      },
      "outputs": [],
      "source": [
        "# Import data\n",
        "!wget https://cdn.freecodecamp.org/project-data/health-costs/insurance.csv\n",
        "dataset = pd.read_csv('insurance.csv')\n",
        "dataset.tail()"
      ]
    },
    {
      "cell_type": "code",
      "execution_count": null,
      "metadata": {
        "id": "LcopvQh3X-kX"
      },
      "outputs": [],
      "source": [
        "from sklearn.model_selection import train_test_split\n",
        "\n",
        "# Converting categorical to number\n",
        "  # replacing values\n",
        "dataset['smoker'].replace(['no', 'yes'],[0, 1], inplace=True)\n",
        "dataset['sex'].replace(['male', 'female'],[0, 1], inplace=True)\n",
        "dataset['region'].replace(['northwest', 'northeast', 'southeast', 'southwest'],[0, 1, 2, 3], inplace=True)\n",
        "\n",
        "x_data = dataset.drop(columns=['expenses'])\n",
        "y_data = dataset['expenses']\n",
        "# split into input (X) and output (Y), train and test variables\n",
        "train_dataset, test_dataset, train_labels, test_labels = train_test_split(x_data, y_data, test_size=0.2, random_state=42)\n",
        "print(train_dataset[:5])\n",
        "print(\"Shapes: \", train_dataset.shape, test_dataset.shape, train_labels.shape, test_labels.shape)"
      ]
    },
    {
      "cell_type": "code",
      "source": [
        "model = keras.Sequential()\n",
        "\n",
        "num_features = len(train_dataset.keys())\n",
        "#Creating the model\n",
        "model.add(keras.layers.Dense(128, activation='relu', input_shape=(num_features,)))  # First hidden layer\n",
        "layers.Dropout(.2), #20% dropout\n",
        "model.add(keras.layers.Dense(64, activation='relu'))  # Second hidden layer\n",
        "model.add(keras.layers.Dense(32, activation='relu'))  # Third hidden layer\n",
        "model.add(keras.layers.Dense(1))  # Output layer with 1 unit for predicted price\n"
      ],
      "metadata": {
        "id": "XJY3acvTfm1G"
      },
      "execution_count": null,
      "outputs": []
    },
    {
      "cell_type": "code",
      "source": [
        "#COMPILING\n",
        "model.compile(\n",
        "    optimizer=tf.optimizers.Nadam(learning_rate=0.1),\n",
        "    loss='mae',\n",
        "    metrics=['mae', 'mse']\n",
        ")\n",
        "model.summary()"
      ],
      "metadata": {
        "id": "aV_vCHGCq3lO"
      },
      "execution_count": null,
      "outputs": []
    },
    {
      "cell_type": "code",
      "source": [
        "class CCallback(keras.callbacks.Callback):\n",
        "  \"\"\"\n",
        "  Custom callback to track and print training progress with epochs, loss, MAE, and MSE.\n",
        "  \"\"\"\n",
        "  def on_epoch_end(self, epoch, logs=None):\n",
        "    if logs is None:\n",
        "      return\n",
        "    print(f\"Epoch: {epoch+1}\")\n",
        "    print(f\"Loss: {logs['loss']:.5f}\")\n",
        "    print(f\"MAE: {logs['mae']:.5f}\")\n",
        "    print(f\"MSE: {logs['mse']:.5f}\")\n",
        "    print(\"-\" * 20)\n",
        "\n",
        "#TRAINING\n",
        "\n",
        "r = model.fit(train_dataset, train_labels, epochs=500,\n",
        "              verbose=0,callbacks=[CCallback()])"
      ],
      "metadata": {
        "id": "c3dEnw5qr46x"
      },
      "execution_count": null,
      "outputs": []
    },
    {
      "cell_type": "code",
      "execution_count": null,
      "metadata": {
        "id": "Xe7RXH3N3CWU"
      },
      "outputs": [],
      "source": [
        "# RUN THIS CELL TO TEST YOUR MODEL. DO NOT MODIFY CONTENTS.\n",
        "# Test model by checking how well the model generalizes using the test set.\n",
        "loss, mae, mse = model.evaluate(test_dataset, test_labels, verbose=2)\n",
        "\n",
        "print(\"Testing set Mean Abs Error: {:5.2f} expenses\".format(mae))\n",
        "\n",
        "if mae < 3500:\n",
        "  print(\"You passed the challenge. Great job!\")\n",
        "else:\n",
        "  print(\"The Mean Abs Error must be less than 3500. Keep trying.\")\n",
        "\n",
        "# Plot predictions.\n",
        "test_predictions = model.predict(test_dataset).flatten()\n",
        "\n",
        "a = plt.axes(aspect='equal')\n",
        "plt.scatter(test_labels, test_predictions)\n",
        "plt.xlabel('True values (expenses)')\n",
        "plt.ylabel('Predictions (expenses)')\n",
        "lims = [0, 50000]\n",
        "plt.xlim(lims)\n",
        "plt.ylim(lims)\n",
        "_ = plt.plot(lims,lims)\n"
      ]
    }
  ],
  "metadata": {
    "colab": {
      "private_outputs": true,
      "provenance": [],
      "toc_visible": true
    },
    "kernelspec": {
      "display_name": "Python 3",
      "name": "python3"
    }
  },
  "nbformat": 4,
  "nbformat_minor": 0
}